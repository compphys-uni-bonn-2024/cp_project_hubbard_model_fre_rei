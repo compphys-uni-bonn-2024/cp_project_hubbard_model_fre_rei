{
 "cells": [
  {
   "cell_type": "markdown",
   "metadata": {},
   "source": [
    "# Hybrid Monte Carlo Approach"
   ]
  },
  {
   "cell_type": "markdown",
   "metadata": {},
   "source": [
    "## Import Required Libraries"
   ]
  },
  {
   "cell_type": "code",
   "execution_count": 1,
   "metadata": {},
   "outputs": [],
   "source": [
    "import numpy as np  # Numerical computations and array operations  \n",
    "import matplotlib.pyplot as plt  # Plotting and visualization  \n",
    "import pandas as pd  # Data handling and manipulation  \n",
    "import re  # Regular expressions for text processing  \n",
    "from sklearn.utils import resample  # Bootstrap resampling utility from scikit-learn  "
   ]
  },
  {
   "cell_type": "markdown",
   "metadata": {},
   "source": [
    "## Define all functions"
   ]
  },
  {
   "cell_type": "code",
   "execution_count": 2,
   "metadata": {},
   "outputs": [],
   "source": [
    "#--------------------------------------------------------------------\n",
    "# Functions for the HMC simulation\n",
    "#--------------------------------------------------------------------\n",
    "\n",
    "# Build the fermion matrix M(phi)\n",
    "def build_M(phi):\n",
    "    \"\"\"\n",
    "    Constructs the fermion matrix M for a given field configuration phi.\n",
    "    \"\"\"\n",
    "    Nt = len(phi)  # Number of time slices\n",
    "    M = np.eye(Nt)  # Start with identity matrix\n",
    "    for t in range(Nt - 1):\n",
    "        M[t + 1, t] = -np.exp(phi[t])  # Fill lower diagonal elements\n",
    "    M[0, Nt - 1] = np.exp(phi[Nt - 1])  # Apply anti-periodic boundary condition\n",
    "    return M\n",
    "\n",
    "# Compute the gradient of the action S[ϕ]\n",
    "def dS_dphi(phi, Utilde, Nt):\n",
    "    \"\"\"\n",
    "    Computes the gradient of the action S with respect to the field phi.\n",
    "    \"\"\"\n",
    "    grad_quad = phi / Utilde  # Quadratic part of gradient\n",
    "    \n",
    "    M_phi = build_M(phi)\n",
    "    M_minus_phi = build_M(-phi)\n",
    "    \n",
    "    inv_M_phi = np.linalg.inv(M_phi)  # Compute inverse of M(phi)\n",
    "    inv_M_minus_phi = np.linalg.inv(M_minus_phi)  # Compute inverse of M(-phi)\n",
    "    \n",
    "    grad_det = np.zeros_like(phi)\n",
    "    for t in range(Nt):\n",
    "        dM_dphi_t = np.zeros((Nt, Nt))  # Derivative matrix\n",
    "        if t < Nt - 1:\n",
    "            dM_dphi_t[t + 1, t] = -np.exp(phi[t])\n",
    "        else:\n",
    "            dM_dphi_t[0, t] = np.exp(phi[t])\n",
    "        \n",
    "        dM_minus_dphi_t = np.zeros((Nt, Nt))  # Derivative for M(-phi)\n",
    "        if t < Nt - 1:\n",
    "            dM_minus_dphi_t[t + 1, t] = np.exp(-phi[t])\n",
    "        else:\n",
    "            dM_minus_dphi_t[0, t] = -np.exp(-phi[t])\n",
    "        \n",
    "        grad_det[t] = np.trace(inv_M_phi @ dM_dphi_t) + np.trace(inv_M_minus_phi @ dM_minus_dphi_t)\n",
    "    \n",
    "    return grad_quad - grad_det\n",
    "\n",
    "# Define the Hamiltonian function\n",
    "def H(phi, p, Utilde):\n",
    "    \"\"\"\n",
    "    Computes the Hamiltonian H for a given field configuration phi and momentum p.\n",
    "    \"\"\"\n",
    "    kinetic = 0.5 * np.sum(p ** 2)  # Kinetic energy term\n",
    "    log_det = np.log(np.linalg.det(build_M(phi))) + np.log(np.linalg.det(build_M(-phi)))\n",
    "    potential = (0.5 / Utilde) * np.sum(phi ** 2) - log_det  # Potential energy term\n",
    "    return kinetic + potential\n",
    "\n",
    "# Perform a single HMC step\n",
    "def HMC_step(phi_current, delta, N_steps, Nt, Utilde):\n",
    "    \"\"\"\n",
    "    Performs a single Hybrid Monte Carlo (HMC) update step.\n",
    "    \"\"\"\n",
    "    phi_proposal = phi_current.copy()\n",
    "    p = np.random.normal(0, 1, Nt)  # Sample Gaussian-distributed momentum\n",
    "    H_initial = H(phi_proposal, p, Utilde)  # Compute initial Hamiltonian\n",
    "    \n",
    "    # Leapfrog integration\n",
    "    p -= 0.5 * delta * dS_dphi(phi_proposal, Utilde, Nt)\n",
    "    for _ in range(N_steps):\n",
    "        phi_proposal += delta * p\n",
    "        p -= delta * dS_dphi(phi_proposal, Utilde, Nt)\n",
    "    p -= 0.5 * delta * dS_dphi(phi_proposal, Utilde, Nt)\n",
    "    \n",
    "    H_final = H(phi_proposal, p, Utilde)\n",
    "    \n",
    "    # Metropolis acceptance step\n",
    "    if np.random.rand() < np.exp(H_initial - H_final):\n",
    "        return phi_proposal, True  # Accept proposal\n",
    "    else:\n",
    "        return phi_current.copy(), False  # Reject proposal\n",
    "    \n",
    "def hmc_run(phi_initial, N_samples, N_thermal, delta, N_steps_leapfrog, Nt, Utilde):\n",
    "    \"\"\"\n",
    "    Runs the Hybrid Monte Carlo (HMC) algorithm to generate phi samples.\n",
    "    \n",
    "    Parameters:\n",
    "    - phi_initial: Initial phi configuration.\n",
    "    - N_samples: Number of samples to collect.\n",
    "    - N_thermal: Number of thermalization steps before collecting samples.\n",
    "    - delta: Step size for the leapfrog integrator.\n",
    "    - N_steps_leapfrog: Number of leapfrog steps per HMC update.\n",
    "    - Nt: Number of time slices.\n",
    "    - Utilde: Interaction parameter.\n",
    "    \n",
    "    Returns:\n",
    "    - phi_samples: List of sampled phi configurations.\n",
    "    - N_accept: Number of accepted proposals.\n",
    "    - M_up_inv: Inverse of the up-spin fermion matrix.\n",
    "    - M_down_inv: Inverse of the down-spin fermion matrix.\n",
    "    \"\"\"\n",
    "    phi = phi_initial.copy()  # Start configuration\n",
    "    phi_samples = []  # List to store the sampled configurations\n",
    "    \n",
    "    N_accept = 0\n",
    "    N_total = N_samples + N_thermal\n",
    "\n",
    "    for step in range(N_total):\n",
    "        phi, accepted = HMC_step(phi, delta, N_steps_leapfrog, Nt, Utilde)\n",
    "        phi_samples.append(phi.copy())\n",
    "        if accepted and step > N_thermal:\n",
    "            N_accept += 1\n",
    "    \n",
    "    return phi_samples, N_accept\n",
    "\n",
    "#--------------------------------------------------------------------\n",
    "# Functions for computing observables\n",
    "#--------------------------------------------------------------------\n",
    "\n",
    "def G_exact(tau, U, beta):\n",
    "    \"\"\"\n",
    "    Computes the exact correlation function G(tau) for given parameters.\n",
    "    \"\"\"\n",
    "    return np.cosh(.5 * U * (tau - .5 * beta)) / (2 * np.cosh(U * beta * .25))\n",
    "\n",
    "def compute_greens_function(phi_samples, N_thermal, thinning, Nt, n_boot=1000):\n",
    "    \"\"\"\n",
    "    Computes the Green's function using bootstrap resampling.\n",
    "    \n",
    "    Parameters:\n",
    "    - phi_samples: List of sampled phi configurations.\n",
    "    - M_inv: Inverse fermion matrix.\n",
    "    - N_thermal: Number of thermalization steps.\n",
    "    - thinning: Thinning factor (use every `thinning`th sample).\n",
    "    - Nt: Number of time slices.\n",
    "    - n_boot: Number of bootstrap resampling iterations.\n",
    "    \n",
    "    Returns:\n",
    "    - G_up: Raw Green's function samples.\n",
    "    - G_up_avg: Mean Green's function.\n",
    "    - bootstrap_errors: Standard error estimated via bootstrap.\n",
    "    - samples_green: Number of thinned samples used in computation.\n",
    "    \"\"\"\n",
    "    # 1. Apply thermalization and thinning\n",
    "    phi_samples_thinned = phi_samples[N_thermal:][::thinning]\n",
    "    samples_green = len(phi_samples_thinned)\n",
    "    \n",
    "    # 2. Compute Green's function for each sampled phi\n",
    "    G_up = []\n",
    "    for phi in phi_samples_thinned:\n",
    "        M_inv = np.linalg.inv(build_M(phi))\n",
    "        G_up.append([M_inv[t, 0] for t in range(Nt)])\n",
    "    G_up = np.array(G_up)  # Shape: (samples_green, Nt)\n",
    "    \n",
    "    # 3. Perform bootstrap resampling\n",
    "    bootstrap_means = np.zeros((n_boot, Nt))\n",
    "    for i in range(n_boot):\n",
    "        # Resample indices (resampling phi samples)\n",
    "        indices = resample(np.arange(samples_green), replace=True)\n",
    "        \n",
    "        # Select resampled Green's function values\n",
    "        G_up_boot = G_up[indices]  # Shape: (samples_green, Nt)\n",
    "        \n",
    "        # Compute mean over resampled set\n",
    "        bootstrap_means[i] = np.mean(G_up_boot, axis=0)\n",
    "    \n",
    "    # 4. Compute bootstrap errors\n",
    "    G_up_avg = np.mean(G_up, axis=0)\n",
    "    bootstrap_errors = np.std(bootstrap_means, axis=0)\n",
    "    \n",
    "    return G_up, G_up_avg, bootstrap_errors, samples_green\n",
    "\n",
    "def compute_m_squared(phi_samples, N_thermal, thinning, Nt, n_boot=1000):\n",
    "    \"\"\"\n",
    "    Computes the local moment using bootstrap error estimation.\n",
    "    \n",
    "    Parameters:\n",
    "    - phi_samples: List of sampled phi configurations.\n",
    "    - M_up_inv: Inverse of up-spin fermion matrix.\n",
    "    - M_down_inv: Inverse of down-spin fermion matrix.\n",
    "    - N_thermal: Number of thermalization samples.\n",
    "    - thinning: Thinning factor.\n",
    "    - Nt: Number of time slices.\n",
    "    - n_boot: Number of bootstrap resampling iterations.\n",
    "    \n",
    "    Returns:\n",
    "    - m_sq_avg: Expectation value of ⟨m²⟩.\n",
    "    - m_sq_err: Statistical error from bootstrap.\n",
    "    \"\"\"\n",
    "    # 1. Apply thermalization and thinning\n",
    "    phi_samples_thinned = phi_samples[N_thermal:][::thinning]\n",
    "    samples_m_sq = len(phi_samples_thinned)\n",
    "    \n",
    "    # 2. Compute occupation numbers for each sample\n",
    "    n_up_list = []\n",
    "    n_down_list = []\n",
    "    n_up_down_list = []\n",
    "    \n",
    "    for phi in phi_samples_thinned:\n",
    "        # Build the fermion matrices for spin-up and spin-down\n",
    "        M_up = build_M(phi)\n",
    "        M_down = build_M(-phi)\n",
    "                \n",
    "        # Invert the matrices\n",
    "        M_up_inv = np.linalg.inv(M_up)\n",
    "        M_down_inv = np.linalg.inv(M_down)\n",
    "\n",
    "        # Extract diagonal elements of the invers fermion matrices [M_σ^{-1}]_{tt}\n",
    "        M_up_inv_dia = np.array([M_up_inv[t, t].real for t in range(Nt)])\n",
    "        M_down_inv_dia = np.array([M_down_inv[t, t].real for t in range(Nt)])\n",
    "        \n",
    "        # Compute occupation numbers: n↑ = 1 - [M_↑^{-1}]_{tt}, n↓ = 1 - [M_↓^{-1}]_{tt}\n",
    "        n_up = 1.0 - np.mean(M_up_inv_dia)  # Averaged over all time slices\n",
    "        n_down = 1.0 - np.mean(M_down_inv_dia)\n",
    "        n_up_down = n_up * n_down  # Joint occupation probability\n",
    "        \n",
    "        n_up_list.append(n_up)\n",
    "        n_down_list.append(n_down)\n",
    "        n_up_down_list.append(n_up_down)\n",
    "    \n",
    "    # 3. Perform bootstrap resampling to estimate errors\n",
    "    m_sq_boot = []\n",
    "    for _ in range(n_boot):\n",
    "        indices = resample(np.arange(samples_m_sq), replace=True)\n",
    "        n_up_boot = np.array(n_up_list)[indices]\n",
    "        n_down_boot = np.array(n_down_list)[indices]\n",
    "        n_up_down_boot = np.array(n_up_down_list)[indices]\n",
    "        \n",
    "        m_sq = (np.mean(n_up_boot) + np.mean(n_down_boot)) - 2 * np.mean(n_up_down_boot)\n",
    "        m_sq_boot.append(m_sq)\n",
    "    \n",
    "    # 4. Compute final results and bootstrap error\n",
    "    m_sq_avg = (np.mean(n_up_list) + np.mean(n_down_list)) - 2 * np.mean(n_up_down_list)\n",
    "    m_sq_err = np.std(m_sq_boot)\n",
    "    m_sq = np.array(n_up_list) + np.array(n_down_list) - 2 * np.array(n_up_down_list) # Full array of m_sq, \n",
    "    # Needed to compute the autocorrelation between measurements\n",
    "    \n",
    "    return m_sq, m_sq_avg, m_sq_err, samples_m_sq\n",
    "\n",
    "#--------------------------------------------------------------------\n",
    "# Functions for the autocorrelation time\n",
    "#--------------------------------------------------------------------\n",
    "\n",
    "def normalized_autocorrelation_function(timeseries, mean=None, until=None, fast=False):\n",
    "    \"\"\"\n",
    "    Computes the normalized autocorrelation function of a time series.\n",
    "    Uses either direct computation or FFT-based method for efficiency.\n",
    "    \"\"\"\n",
    "    steps = len(timeseries)\n",
    "    if mean is None:\n",
    "        mean = timeseries.mean()\n",
    "    series = timeseries - mean\n",
    "    \n",
    "    if fast:\n",
    "        C = np.fft.ifft(np.fft.fft(series) * np.fft.fft(series).conj()).real  # Efficient FFT-based method\n",
    "    else:\n",
    "        C = np.zeros_like(timeseries)\n",
    "        C[0] = (series * series).mean()\n",
    "        for dt in range(1, steps - 1):\n",
    "            C[dt] = (series[:-dt] * series[dt:]).mean()  # Direct computation\n",
    "    \n",
    "    if until is None:\n",
    "        return C / C[0]  # Normalize the autocorrelation function\n",
    "    else:\n",
    "        return C[:until] / C[0]\n",
    "\n",
    "def integrated_autocorrelation_time(timeseries, mean=None, until=None, fast=False):\n",
    "    \"\"\"\n",
    "    Computes the integrated autocorrelation time (IAT) for a given time series.\n",
    "    This measures how correlated successive samples are, useful for MCMC diagnostics.\n",
    "    \"\"\"\n",
    "    steps = len(timeseries)\n",
    "    if until is None:\n",
    "        until = steps // 2  # Set a default cutoff for summation\n",
    "    \n",
    "    Gamma = normalized_autocorrelation_function(timeseries, mean=mean, until=until, fast=fast)\n",
    "    \n",
    "    try:\n",
    "        first_zero = np.where(Gamma <= 0)[0][0]  # Find first zero crossing\n",
    "        return 0.5 + Gamma[1:first_zero].sum()  # Compute IAT as sum of correlations\n",
    "    except:\n",
    "        return steps  # If no zero crossing, return maximum steps\n"
   ]
  },
  {
   "cell_type": "markdown",
   "metadata": {},
   "source": [
    "-----------------------------"
   ]
  },
  {
   "cell_type": "markdown",
   "metadata": {},
   "source": [
    "## Local moment"
   ]
  },
  {
   "cell_type": "code",
   "execution_count": 3,
   "metadata": {},
   "outputs": [
    {
     "name": "stdout",
     "output_type": "stream",
     "text": [
      "Acceptance rate: 76.75%\n"
     ]
    }
   ],
   "source": [
    "# Parameter definition\n",
    "beta = 0.5  # Inverse temperature\n",
    "U = 1  # Interaction strength\n",
    "Nt = 12  # Number of time slices (Trotter decomposition)\n",
    "delta_leapfrog = 0.03  # Step size for leapfrog integration in HMC\n",
    "N_steps_leapfrog = 15  # Number of leapfrog steps per HMC iteration\n",
    "N_thermal = 1000  # Number of thermalization steps before collecting samples\n",
    "N_samples = 10**4  # Total number of HMC samples\n",
    "Utilde = U * beta / Nt  # Rescaled interaction parameter\n",
    "\n",
    "# Initialize the field phi with Gaussian-distributed values\n",
    "phi_initial = np.random.normal(0, np.sqrt(Utilde), Nt)\n",
    "\n",
    "# Run the HMC algorithm to generate phi samples\n",
    "phi_samples, N_accept = hmc_run(phi_initial, N_samples, N_thermal, delta_leapfrog, N_steps_leapfrog, Nt, Utilde)\n",
    "\n",
    "# Compute the acceptance rate of the HMC sampling process\n",
    "acceptance_rate = N_accept / N_samples\n",
    "print(f\"Acceptance rate: {acceptance_rate:.2%}\")"
   ]
  },
  {
   "cell_type": "code",
   "execution_count": 4,
   "metadata": {},
   "outputs": [],
   "source": [
    "# Saving the samples in a Pandas DataFrame\n",
    "# Uncomment this for saving\n",
    "\n",
    "# filename = f'data_hmc/phi_beta{beta}_U{U}_samples{N_samples}.csv'\n",
    "# df = pd.DataFrame({'Phi': phi_samples})\n",
    "# df.to_csv(filename, index=False)"
   ]
  },
  {
   "cell_type": "code",
   "execution_count": 5,
   "metadata": {},
   "outputs": [],
   "source": [
    "# Plot to have a look at the thermalization\n",
    "# Uncomment this for a visulization of the first 3000 steps\n",
    "\n",
    "# phi_sq = [np.mean(phi**2) for phi in phi_samples]\n",
    "# plt.plot(phi_sq[:3000])\n",
    "# plt.xlabel(\"Monte Carlo steps\")\n",
    "# _ = plt.ylabel(r\"$⟨\\phi^2⟩$\")"
   ]
  },
  {
   "cell_type": "code",
   "execution_count": 6,
   "metadata": {},
   "outputs": [
    {
     "name": "stdout",
     "output_type": "stream",
     "text": [
      "⟨m²⟩ = 0.561 ± 0.002\n"
     ]
    }
   ],
   "source": [
    "thinning = 5  # Interval for selecting samples (to reduce autocorrelation)\n",
    "n_boot = 10**5  # Number of bootstrap resampling iterations\n",
    "\n",
    "# Compute the local moment using the sampled field configurations\n",
    "m_sq, m_sq_avg, m_sq_err, samples_m_sq = compute_m_squared(phi_samples, N_thermal, thinning, Nt, n_boot)\n",
    "\n",
    "# Print the result\n",
    "print(f\"⟨m²⟩ = {m_sq_avg:.3f} ± {m_sq_err:.3f}\")"
   ]
  },
  {
   "cell_type": "code",
   "execution_count": 7,
   "metadata": {},
   "outputs": [
    {
     "name": "stdout",
     "output_type": "stream",
     "text": [
      "Autocorrelation time: 0.61\n"
     ]
    }
   ],
   "source": [
    "# Compute the autocorrelation time of G_up(tau=0)[phi]\n",
    "# The first comutation should be done with a thinning = 1, to get the autocorrelation time\n",
    "# Then adjust the 'thinning' parameter to thinning >= 4*tau\n",
    "\n",
    "print(f\"Autocorrelation time: {integrated_autocorrelation_time(m_sq,until=int(samples_m_sq), fast=True):.2f}\")"
   ]
  },
  {
   "cell_type": "code",
   "execution_count": 8,
   "metadata": {},
   "outputs": [],
   "source": [
    "# Plot to have a look at the normalized autocorrelation\n",
    "# Uncomment this for a visulization of the first 10 steps\n",
    "\n",
    "# # Compute the normalized autocorrelation of G_up(tau=0)[phi]\n",
    "# acf = normalized_autocorrelation_function(m_sq,until=int(samples_m_sq), fast=True)\n",
    "\n",
    "# # Plot\n",
    "# plt.plot(acf[:10])\n",
    "# plt.xlabel(r'$\\Delta t$')\n",
    "# _ = plt.ylabel(r'$\\Gamma(\\Delta t)$')"
   ]
  },
  {
   "cell_type": "markdown",
   "metadata": {},
   "source": [
    "### Final Plot"
   ]
  },
  {
   "cell_type": "code",
   "execution_count": 9,
   "metadata": {},
   "outputs": [],
   "source": [
    "# Load data from the Exact Diagonalization method from CSV file into a Pandas DataFrame\n",
    "filename = \"data/local_mom_sites1_beta05_U_var.csv\"\n",
    "df = pd.read_csv(filename)\n",
    "\n",
    "# Extract U values and corresponding ⟨m²⟩ values\n",
    "U_arr = df[\"u_arr\"].values\n",
    "m_sq_arr = df[\"m2_arr\"].values"
   ]
  },
  {
   "cell_type": "code",
   "execution_count": 10,
   "metadata": {},
   "outputs": [
    {
     "data": {
      "image/png": "[encoded data removed]",
      "text/plain": [
       "<Figure size 640x480 with 1 Axes>"
      ]
     },
     "metadata": {},
     "output_type": "display_data"
    }
   ],
   "source": [
    "# Local moment data for different values of U using HMC\n",
    "U_values = np.array([1,4,8,12])\n",
    "m_sq = np.array([0.554,0.733,0.890,0.956])\n",
    "m_sq_err = np.array([0.005,0.009,0.008,0.007])\n",
    "m_sq_2 = np.array([0.559,0.729,0.888,0.954])\n",
    "m_sq_err_2 = np.array([0.002,0.003,0.003,0.002])\n",
    "\n",
    "# Plot the local moment for the HMC and ED methods\n",
    "plt.errorbar(U_values, m_sq, yerr=m_sq_err, fmt=\"o\", label=r'HMC: $N=10^3$', color = 'cornflowerblue')\n",
    "plt.errorbar(U_values, m_sq_2, yerr=m_sq_err_2, fmt=\"o\", label=r'HMC: $N=10^4$', color = 'darkorange')\n",
    "plt.plot(U_arr, m_sq_arr, color='black', label='ED')\n",
    "plt.xlabel(r'$U$', fontsize=14)\n",
    "plt.ylabel(r'$<m^2>$', fontsize=14)\n",
    "plt.xticks(fontsize=12)\n",
    "plt.yticks(fontsize=12)\n",
    "plt.legend(fontsize=12)\n",
    "_ = plt.grid(True, alpha=0.7)\n",
    "# plt.savefig(\"plots/m_sq.png\", dpi=500)"
   ]
  },
  {
   "cell_type": "markdown",
   "metadata": {},
   "source": [
    "----------------------------------------------"
   ]
  },
  {
   "cell_type": "markdown",
   "metadata": {},
   "source": [
    "## Green's function"
   ]
  },
  {
   "cell_type": "code",
   "execution_count": 11,
   "metadata": {},
   "outputs": [
    {
     "name": "stdout",
     "output_type": "stream",
     "text": [
      "Acceptance rate: 81.38%\n"
     ]
    }
   ],
   "source": [
    "# Parameter definition\n",
    "beta = 10  # Inverse temperature\n",
    "U = 1  # Interaction strength\n",
    "Nt = 24  # Number of time slices (Trotter decomposition)\n",
    "delta_leapfrog = 0.06  # Step size for leapfrog integration in HMC\n",
    "N_steps_leapfrog = 20  # Number of leapfrog steps per HMC iteration\n",
    "N_thermal = 1000  # Number of thermalization steps before collecting samples\n",
    "N_samples = 10**5  # Total number of HMC samples\n",
    "Utilde = U * beta / Nt  # Rescaled interaction parameter\n",
    "\n",
    "# Initialize the field phi with Gaussian-distributed values\n",
    "phi_initial = np.random.normal(0, np.sqrt(Utilde), Nt)\n",
    "\n",
    "# Run the HMC algorithm to generate phi samples\n",
    "phi_samples, N_accept = hmc_run(phi_initial, N_samples, N_thermal, delta_leapfrog, N_steps_leapfrog, Nt, Utilde)\n",
    "\n",
    "# Compute the acceptance rate of the HMC sampling process\n",
    "acceptance_rate = N_accept / N_samples\n",
    "print(f\"Acceptance rate: {acceptance_rate:.2%}\")"
   ]
  },
  {
   "cell_type": "code",
   "execution_count": 12,
   "metadata": {},
   "outputs": [],
   "source": [
    "# Saving the samples in a Pandas DataFrame\n",
    "# Uncomment this for saving\n",
    "\n",
    "# filename = f'data_hmc/phi_beta{beta}_U{U}_samples{N_samples}.csv'\n",
    "# df = pd.DataFrame({'Phi': phi_samples})\n",
    "# df.to_csv(filename, index=False)"
   ]
  },
  {
   "cell_type": "code",
   "execution_count": 13,
   "metadata": {},
   "outputs": [],
   "source": [
    "# Plot to have a look at the thermalization\n",
    "# Uncomment this for a visulization of the first 3000 steps\n",
    "\n",
    "# phi_sq = [np.mean(phi**2) for phi in phi_samples]\n",
    "# plt.plot(phi_sq[:3000])\n",
    "# plt.xlabel(\"Monte Carlo steps\")\n",
    "# _ = plt.ylabel(r\"$⟨\\phi^2⟩$\")"
   ]
  },
  {
   "cell_type": "code",
   "execution_count": null,
   "metadata": {},
   "outputs": [
    {
     "name": "stdout",
     "output_type": "stream",
     "text": [
      "G(tau = 0) = 0.476 ± 0.030\n"
     ]
    }
   ],
   "source": [
    "thinning = 368  # Interval for selecting samples (to reduce autocorrelation)\n",
    "n_boot = 10**5  # Number of bootstrap resampling iterations\n",
    "\n",
    "# Compute the Green's function using the sampled field configurations\n",
    "G_up, G_up_avg, G_up_error, samples_green = compute_greens_function(phi_samples, N_thermal, thinning, Nt, n_boot)\n",
    "\n",
    "# Print the result\n",
    "print(f\"G(tau = 0) = {G_up_avg[0]:.3f} ± {G_up_error[0]:.3f}\")"
   ]
  },
  {
   "cell_type": "code",
   "execution_count": 20,
   "metadata": {},
   "outputs": [
    {
     "name": "stdout",
     "output_type": "stream",
     "text": [
      "Autocorrelation time: 0.78\n"
     ]
    }
   ],
   "source": [
    "# Compute the autocorrelation time of G_up(tau=0)[phi]\n",
    "# The first comutation should be done with a thinning = 1, to get the autocorrelation time\n",
    "# Then adjust the 'thinning' parameter to thinning >= 4*tau\n",
    "\n",
    "print(f\"Autocorrelation time: {integrated_autocorrelation_time(G_up[:,0],until=int(samples_green), fast=True):.2f}\")"
   ]
  },
  {
   "cell_type": "code",
   "execution_count": 21,
   "metadata": {},
   "outputs": [],
   "source": [
    "# Plot to have a look at the normalized autocorrelation\n",
    "# Uncomment this for a visulization of the first 10 steps\n",
    "\n",
    "# # Compute the normalized autocorrelation of G_up(tau=0)[phi]\n",
    "# acf = normalized_autocorrelation_function(G_up[:,0],until=int(samples_green), fast=True)\n",
    "\n",
    "# # Plot\n",
    "# plt.plot(acf[:10])\n",
    "# plt.xlabel(r'$\\Delta t$')\n",
    "# _ = plt.ylabel(r'$\\Gamma(\\Delta t)$')"
   ]
  },
  {
   "cell_type": "code",
   "execution_count": 22,
   "metadata": {},
   "outputs": [],
   "source": [
    "# Saving the Green's function in a Pandas DataFrame\n",
    "# Uncomment this for saving\n",
    "\n",
    "# filename = f'data_hmc/green_beta{beta}_U{U}_samples{N_samples}_thinning{thinning}.csv'\n",
    "# df = pd.DataFrame({'Mean': G_up_avg, 'Error': G_up_error})\n",
    "# df.to_csv(filename, index=False)"
   ]
  },
  {
   "cell_type": "code",
   "execution_count": 23,
   "metadata": {},
   "outputs": [
    {
     "data": {
      "image/png": "[encoded data removed]",
      "text/plain": [
       "<Figure size 640x480 with 1 Axes>"
      ]
     },
     "metadata": {},
     "output_type": "display_data"
    }
   ],
   "source": [
    "# Time axis for the Green's function computed with HMC\n",
    "tau = np.arange(Nt) * beta / Nt\n",
    "\n",
    "# Exact solution\n",
    "tau_exact = np.linspace(0, beta, 100)\n",
    "green_exact = G_exact(tau_exact, U, beta)\n",
    "\n",
    "# Plot of the Green's function computed with HMC and the exact solution\n",
    "plt.errorbar(tau, G_up_avg, yerr=G_up_error, fmt='o', color='cornflowerblue', label='HMC Simulation')\n",
    "plt.plot(tau_exact, green_exact, color = 'darkorange', label='Exact Solution')\n",
    "plt.xlabel(r'$\\tau$', fontsize=14)\n",
    "plt.ylabel(r'$G_{00,\\uparrow}$', fontsize=14)\n",
    "plt.xticks(fontsize=12)\n",
    "plt.yticks(fontsize=12)\n",
    "plt.grid(True, alpha=0.7)\n",
    "_ = plt.legend(fontsize=12)"
   ]
  },
  {
   "cell_type": "markdown",
   "metadata": {},
   "source": [
    "### Final Plot"
   ]
  },
  {
   "cell_type": "code",
   "execution_count": 24,
   "metadata": {},
   "outputs": [],
   "source": [
    "# Load data for the Green's function for HMC runs with 10^5 and 10^6 numbers of samples\n",
    "filename_1= f'data/green_beta10_U1_samples100000_thinning368.csv'\n",
    "filename_2 = f'data/green_beta10_U1_samples1000000_thinning448.csv'\n",
    "df_1 = pd.read_csv(filename_1)\n",
    "df_2 = pd.read_csv(filename_2)\n",
    "\n",
    "# Extract mean and error values for the Green's function\n",
    "G_mean_1 = df_1[\"Mean\"]\n",
    "G_mean_2 = df_2[\"Mean\"]\n",
    "G_error_1 = df_1[\"Error\"]\n",
    "G_error_2 = df_2[\"Error\"]\n",
    "\n",
    "# Load data from the Exact Diagonalization method\n",
    "data_ED = np.loadtxt('data/green_function_n0_j0_spin1_data_U1_beta10_sites1.txt', comments=\"#\")\n",
    "\n",
    "# Extrahiere tau (Spalte 0) und g_up (Spalte 1)\n",
    "tau_ED = data_ED[:, 0]\n",
    "green_ED = data_ED[:, 1]"
   ]
  },
  {
   "cell_type": "code",
   "execution_count": 26,
   "metadata": {},
   "outputs": [
    {
     "data": {
      "image/png": "[encoded data removed]",
      "text/plain": [
       "<Figure size 640x480 with 1 Axes>"
      ]
     },
     "metadata": {},
     "output_type": "display_data"
    }
   ],
   "source": [
    "# Paramters\n",
    "beta = 10\n",
    "U = 1\n",
    "Nt = 24\n",
    "\n",
    "# Time axis for the Green's functions computed with HMC\n",
    "tau = np.arange(Nt) * beta / Nt\n",
    "\n",
    "# Exact solution\n",
    "tau_exact = np.linspace(0, beta, 100)\n",
    "green_exact = G_exact(tau_exact, U, beta)\n",
    "\n",
    "# Plot the Green's function for the HMC and ED methods and for the exact solution\n",
    "plt.errorbar(tau, G_mean_1, yerr=G_error_1, color='cornflowerblue', fmt='o', label=r'HMC: $N=10^5$')\n",
    "plt.errorbar(tau, G_mean_2, yerr=G_error_2, color='limegreen', fmt='o', label=r'HMC: $N=10^6$')\n",
    "plt.plot(tau_ED, green_ED, color='darkorange', linewidth=5, label='ED')\n",
    "plt.plot(tau_exact, green_exact, color = \"black\", label='Exact Solution')\n",
    "plt.xlabel(r'$\\tau$', fontsize=14)\n",
    "plt.ylabel(r'$G_{00,\\uparrow}$', fontsize=14)\n",
    "plt.grid(True, alpha=0.7)\n",
    "plt.xticks(fontsize=12)\n",
    "plt.yticks(fontsize=12)\n",
    "_ = plt.legend(fontsize=12)\n",
    "# plt.savefig(\"plots/green.png\", dpi=500)"
   ]
  },
  {
   "cell_type": "code",
   "execution_count": null,
   "metadata": {},
   "outputs": [],
   "source": []
  }
 ],
 "metadata": {
  "kernelspec": {
   "display_name": "Python 3",
   "language": "python",
   "name": "python3"
  },
  "language_info": {
   "codemirror_mode": {
    "name": "ipython",
    "version": 3
   },
   "file_extension": ".py",
   "mimetype": "text/x-python",
   "name": "python",
   "nbconvert_exporter": "python",
   "pygments_lexer": "ipython3",
   "version": "3.11.4"
  }
 },
 "nbformat": 4,
 "nbformat_minor": 2
}
